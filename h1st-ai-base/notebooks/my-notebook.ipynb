{
 "metadata": {
  "language_info": {
   "codemirror_mode": {
    "name": "ipython",
    "version": 3
   },
   "file_extension": ".py",
   "mimetype": "text/x-python",
   "name": "python",
   "nbconvert_exporter": "python",
   "pygments_lexer": "ipython3",
   "version": 3
  },
  "orig_nbformat": 2
 },
 "nbformat": 4,
 "nbformat_minor": 2,
 "cells": [
  {
   "cell_type": "code",
   "execution_count": null,
   "metadata": {},
   "outputs": [],
   "source": [
    "from h1st.django.util.config import config_app\n",
    "\n",
    "config_app('app', 'my-h1st-app-config.yml')"
   ]
  },
  {
   "cell_type": "code",
   "execution_count": null,
   "metadata": {},
   "outputs": [],
   "source": [
    "from ai.workflow import MyWorkflow\n",
    "from ai.models.my_model import MyModel"
   ]
  },
  {
   "source": [
    "Create a `model` object"
   ],
   "cell_type": "markdown",
   "metadata": {}
  },
  {
   "cell_type": "code",
   "execution_count": null,
   "metadata": {},
   "outputs": [],
   "source": [
    "model = MyModel.objects.create()\n",
    "model"
   ]
  },
  {
   "source": [
    "Create a `workflow` object that uses the above `model`"
   ],
   "cell_type": "markdown",
   "metadata": {}
  },
  {
   "cell_type": "code",
   "execution_count": null,
   "metadata": {},
   "outputs": [],
   "source": [
    "workflow = MyWorkflow.objects.get_or_create(first_step=model)[0]\n",
    "print(workflow)"
   ]
  }
 ]
}