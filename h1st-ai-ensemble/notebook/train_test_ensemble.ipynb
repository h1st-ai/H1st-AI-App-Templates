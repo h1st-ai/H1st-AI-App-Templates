{
 "cells": [
  {
   "cell_type": "markdown",
   "metadata": {},
   "source": [
    "# How to use H1st Ensemble ?\n",
    "1. We will first define/train two h1st example models (You can use N different models with h1st Ensemble API).\n",
    "2. We will import RandomForestStackEnsembleClassifier from h1st.\n",
    "3. Define load_data and prep_data methods of RandomForestStackEnsembleClassifier\n",
    "4. Train and evaluate the ensemble  \n",
    "\n",
    "In this AI App template, we will use \"default of credit card clients\" Data Set which has 23 features and a target (2 classes). The data set is provided by Yeh, I. C., & Lien, C. H. (2009). The comparisons of data mining techniques for the predictive accuracy of probability of default of credit card clients. Expert Systems with Applications, 36(2), 2473-2480."
   ]
  },
  {
   "cell_type": "code",
   "execution_count": 1,
   "metadata": {},
   "outputs": [],
   "source": [
    "# coding: utf-8\n",
    "%load_ext autoreload\n",
    "%autoreload 2"
   ]
  },
  {
   "cell_type": "code",
   "execution_count": 2,
   "metadata": {},
   "outputs": [],
   "source": [
    "import sys\n",
    "sys.path.append(\"..\")\n",
    "sys.path.append(\"../..\")"
   ]
  },
  {
   "cell_type": "code",
   "execution_count": 3,
   "metadata": {},
   "outputs": [],
   "source": [
    "import os\n",
    "\n",
    "import pandas as pd\n",
    "\n",
    "import h1st.core as h1\n",
    "h1.init()\n",
    "\n",
    "from app.ai.models.default_classifier_ensemble import DefaultClassifierEnsemble\n",
    "from app.ai.models.sklearn_smv_classifier import SklearnSVMClassifier\n",
    "from app.ai.models.tensorflow_mlp_classifier import TensorflowMLPClassifier\n",
    "from app.ai import config\n",
    "from app.ai.utils import prepare_train_test_data"
   ]
  },
  {
   "cell_type": "markdown",
   "metadata": {},
   "source": [
    "## Submodel_1 - SVM"
   ]
  },
  {
   "cell_type": "code",
   "execution_count": 4,
   "metadata": {},
   "outputs": [],
   "source": [
    "h1_sk_svm = SklearnSVMClassifier()\n",
    "data = h1_sk_svm.load_data()"
   ]
  },
  {
   "cell_type": "code",
   "execution_count": 5,
   "metadata": {},
   "outputs": [
    {
     "data": {
      "image/png": "[encoded data removed]",
      "text/plain": [
       "<Figure size 432x288 with 1 Axes>"
      ]
     },
     "metadata": {
      "needs_background": "light"
     },
     "output_type": "display_data"
    }
   ],
   "source": [
    "h1_sk_svm.explore(data)"
   ]
  },
  {
   "cell_type": "code",
   "execution_count": 6,
   "metadata": {},
   "outputs": [
    {
     "name": "stderr",
     "output_type": "stream",
     "text": [
      "INFO:app.ai.utils:(20100, 23), (9900, 23), (20100, 1), (9900, 1)\n"
     ]
    }
   ],
   "source": [
    "prepared_data = h1_sk_svm.prep(data)"
   ]
  },
  {
   "cell_type": "code",
   "execution_count": 7,
   "metadata": {},
   "outputs": [
    {
     "name": "stderr",
     "output_type": "stream",
     "text": [
      "A column-vector y was passed when a 1d array was expected. Please change the shape of y to (n_samples, ), for example using ravel().\n"
     ]
    }
   ],
   "source": [
    "h1_sk_svm.train(prepared_data)"
   ]
  },
  {
   "cell_type": "code",
   "execution_count": 8,
   "metadata": {},
   "outputs": [
    {
     "data": {
      "text/plain": [
       "{'accuracy': 0.8143434343434344}"
      ]
     },
     "execution_count": 8,
     "metadata": {},
     "output_type": "execute_result"
    }
   ],
   "source": [
    "h1_sk_svm.evaluate(prepared_data)\n",
    "h1_sk_svm.metrics"
   ]
  },
  {
   "cell_type": "code",
   "execution_count": 9,
   "metadata": {},
   "outputs": [
    {
     "name": "stderr",
     "output_type": "stream",
     "text": [
      "2021-02-01 18:00:39,179 INFO h1st.model_repository.model_repository: Saving metrics property...\n",
      "INFO:h1st.model_repository.model_repository:Saving metrics property...\n",
      "2021-02-01 18:00:39,181 INFO h1st.model_repository.model_repository: Saving stats property...\n",
      "INFO:h1st.model_repository.model_repository:Saving stats property...\n",
      "2021-02-01 18:00:39,183 INFO h1st.model_repository.model_repository: Saving model property...\n",
      "INFO:h1st.model_repository.model_repository:Saving model property...\n"
     ]
    },
    {
     "data": {
      "text/plain": [
       "'sk_svm_default_classifier'"
      ]
     },
     "execution_count": 9,
     "metadata": {},
     "output_type": "execute_result"
    }
   ],
   "source": [
    "h1_sk_svm.persist('sk_svm_default_classifier')"
   ]
  },
  {
   "cell_type": "markdown",
   "metadata": {},
   "source": [
    "## Submodel_2 - Multi-Layer Perceptron (MLP)"
   ]
  },
  {
   "cell_type": "code",
   "execution_count": 10,
   "metadata": {},
   "outputs": [
    {
     "name": "stderr",
     "output_type": "stream",
     "text": [
      "INFO:app.ai.utils:(20100, 23), (9900, 23), (20100, 1), (9900, 1)\n"
     ]
    }
   ],
   "source": [
    "h1_tf_mlp = TensorflowMLPClassifier()\n",
    "data = h1_tf_mlp.load_data()\n",
    "prepared_data = h1_tf_mlp.prep(data)"
   ]
  },
  {
   "cell_type": "code",
   "execution_count": 11,
   "metadata": {},
   "outputs": [],
   "source": [
    "h1_tf_mlp.train(prepared_data)"
   ]
  },
  {
   "cell_type": "code",
   "execution_count": 12,
   "metadata": {},
   "outputs": [
    {
     "name": "stderr",
     "output_type": "stream",
     "text": [
      "INFO:app.ai.models.tensorflow_mlp_classifier:(9900, 1), (9900, 1)\n"
     ]
    },
    {
     "data": {
      "text/plain": [
       "{'accuracy': 0.8138383838383838}"
      ]
     },
     "execution_count": 12,
     "metadata": {},
     "output_type": "execute_result"
    }
   ],
   "source": [
    "h1_tf_mlp.evaluate(prepared_data)\n",
    "h1_tf_mlp.metrics"
   ]
  },
  {
   "cell_type": "code",
   "execution_count": 13,
   "metadata": {},
   "outputs": [
    {
     "name": "stderr",
     "output_type": "stream",
     "text": [
      "2021-02-01 18:00:43,874 INFO h1st.model_repository.model_repository: Saving metrics property...\n",
      "INFO:h1st.model_repository.model_repository:Saving metrics property...\n",
      "2021-02-01 18:00:43,876 INFO h1st.model_repository.model_repository: Saving stats property...\n",
      "INFO:h1st.model_repository.model_repository:Saving stats property...\n",
      "2021-02-01 18:00:43,877 INFO h1st.model_repository.model_repository: Saving model property...\n",
      "INFO:h1st.model_repository.model_repository:Saving model property...\n"
     ]
    },
    {
     "data": {
      "text/plain": [
       "'tf_mlp_default_classifier'"
      ]
     },
     "execution_count": 13,
     "metadata": {},
     "output_type": "execute_result"
    }
   ],
   "source": [
    "h1_tf_mlp.persist('tf_mlp_default_classifier')"
   ]
  },
  {
   "cell_type": "markdown",
   "metadata": {},
   "source": [
    "## H1ST StackEnsemble"
   ]
  },
  {
   "cell_type": "code",
   "execution_count": 14,
   "metadata": {},
   "outputs": [
    {
     "name": "stderr",
     "output_type": "stream",
     "text": [
      "2021-02-01 18:00:43,950 INFO h1st.model_repository.model_repository: Loading version sk_svm_default_classifier ....\n",
      "INFO:h1st.model_repository.model_repository:Loading version sk_svm_default_classifier ....\n",
      "2021-02-01 18:00:43,985 INFO h1st.model_repository.model_repository: Loading version tf_mlp_default_classifier ....\n",
      "INFO:h1st.model_repository.model_repository:Loading version tf_mlp_default_classifier ....\n"
     ]
    }
   ],
   "source": [
    "rf_stack_ensemble = DefaultClassifierEnsemble(\n",
    "    [SklearnSVMClassifier().load('sk_svm_default_classifier'), \n",
    "     TensorflowMLPClassifier().load('tf_mlp_default_classifier')],\n",
    "    submodel_predict_input_key= 'X', \n",
    "    submodel_predict_output_key='predictions')"
   ]
  },
  {
   "cell_type": "code",
   "execution_count": 15,
   "metadata": {},
   "outputs": [
    {
     "name": "stderr",
     "output_type": "stream",
     "text": [
      "INFO:app.ai.utils:(20100, 23), (9900, 23), (20100, 1), (9900, 1)\n"
     ]
    }
   ],
   "source": [
    "data = rf_stack_ensemble.load_data()\n",
    "prepared_data = rf_stack_ensemble.prep(data)"
   ]
  },
  {
   "cell_type": "code",
   "execution_count": 16,
   "metadata": {},
   "outputs": [
    {
     "name": "stderr",
     "output_type": "stream",
     "text": [
      "A column-vector y was passed when a 1d array was expected. Please change the shape of y to (n_samples,), for example using ravel().\n"
     ]
    }
   ],
   "source": [
    "rf_stack_ensemble.train(prepared_data)"
   ]
  },
  {
   "cell_type": "code",
   "execution_count": 17,
   "metadata": {},
   "outputs": [],
   "source": [
    "rf_stack_ensemble.evaluate(\n",
    "    prepared_data, metrics=['confusion_matrix', 'accuracy'])"
   ]
  },
  {
   "cell_type": "code",
   "execution_count": 18,
   "metadata": {},
   "outputs": [
    {
     "name": "stderr",
     "output_type": "stream",
     "text": [
      "2021-02-01 18:01:11,944 INFO h1st.model_repository.model_repository: Saving metrics property...\n",
      "INFO:h1st.model_repository.model_repository:Saving metrics property...\n",
      "2021-02-01 18:01:11,945 INFO h1st.model_repository.model_repository: Saving stats property...\n",
      "INFO:h1st.model_repository.model_repository:Saving stats property...\n",
      "2021-02-01 18:01:11,947 INFO h1st.model_repository.model_repository: Saving model property...\n",
      "INFO:h1st.model_repository.model_repository:Saving model property...\n"
     ]
    }
   ],
   "source": [
    "rf_stack_ensemble.persist('default_classifier_ensemble')\n",
    "rf_stack_ensemble = None"
   ]
  },
  {
   "cell_type": "markdown",
   "metadata": {},
   "source": [
    "# Compare the accuracy of Submodels and Ensemble"
   ]
  },
  {
   "cell_type": "code",
   "execution_count": 19,
   "metadata": {},
   "outputs": [
    {
     "name": "stderr",
     "output_type": "stream",
     "text": [
      "2021-02-01 18:01:12,063 INFO h1st.model_repository.model_repository: Loading version sk_svm_default_classifier ....\n",
      "INFO:h1st.model_repository.model_repository:Loading version sk_svm_default_classifier ....\n",
      "2021-02-01 18:01:12,098 INFO h1st.model_repository.model_repository: Loading version tf_mlp_default_classifier ....\n",
      "INFO:h1st.model_repository.model_repository:Loading version tf_mlp_default_classifier ....\n",
      "2021-02-01 18:01:12,109 INFO h1st.model_repository.model_repository: Loading version default_classifier_ensemble ....\n",
      "INFO:h1st.model_repository.model_repository:Loading version default_classifier_ensemble ....\n"
     ]
    }
   ],
   "source": [
    "rf_stack_ensemble = DefaultClassifierEnsemble(\n",
    "    [SklearnSVMClassifier().load('sk_svm_default_classifier'), \n",
    "     TensorflowMLPClassifier().load('tf_mlp_default_classifier')]).load('default_classifier_ensemble')"
   ]
  },
  {
   "cell_type": "code",
   "execution_count": 20,
   "metadata": {},
   "outputs": [],
   "source": [
    "sk_svm_accuracy = h1_sk_svm.metrics['accuracy']\n",
    "tf_fc_accuracy = h1_tf_mlp.metrics['accuracy']\n",
    "ensemble_accuracy = rf_stack_ensemble.metrics['accuracy']"
   ]
  },
  {
   "cell_type": "code",
   "execution_count": 21,
   "metadata": {},
   "outputs": [
    {
     "name": "stdout",
     "output_type": "stream",
     "text": [
      "sk_svm_accuracy: 0.8143434343434344\n",
      "tf_fc_accuracy: 0.8138383838383838\n",
      "ensemble_accuracy: 0.8136363636363636\n"
     ]
    },
    {
     "ename": "AssertionError",
     "evalue": "",
     "output_type": "error",
     "traceback": [
      "\u001b[0;31m---------------------------------------------------------------------------\u001b[0m",
      "\u001b[0;31mAssertionError\u001b[0m                            Traceback (most recent call last)",
      "\u001b[0;32m<ipython-input-21-d0cb3d2a29ba>\u001b[0m in \u001b[0;36m<module>\u001b[0;34m\u001b[0m\n\u001b[1;32m      2\u001b[0m \u001b[0mprint\u001b[0m\u001b[0;34m(\u001b[0m\u001b[0;34m'tf_fc_accuracy:'\u001b[0m\u001b[0;34m,\u001b[0m \u001b[0mtf_fc_accuracy\u001b[0m\u001b[0;34m)\u001b[0m\u001b[0;34m\u001b[0m\u001b[0;34m\u001b[0m\u001b[0m\n\u001b[1;32m      3\u001b[0m \u001b[0mprint\u001b[0m\u001b[0;34m(\u001b[0m\u001b[0;34m'ensemble_accuracy:'\u001b[0m\u001b[0;34m,\u001b[0m \u001b[0mensemble_accuracy\u001b[0m\u001b[0;34m)\u001b[0m\u001b[0;34m\u001b[0m\u001b[0;34m\u001b[0m\u001b[0m\n\u001b[0;32m----> 4\u001b[0;31m \u001b[0;32massert\u001b[0m \u001b[0;34m(\u001b[0m\u001b[0mensemble_accuracy\u001b[0m \u001b[0;34m>=\u001b[0m \u001b[0msk_svm_accuracy\u001b[0m\u001b[0;34m)\u001b[0m \u001b[0;34m&\u001b[0m \u001b[0;34m(\u001b[0m\u001b[0mensemble_accuracy\u001b[0m \u001b[0;34m>=\u001b[0m \u001b[0mtf_fc_accuracy\u001b[0m\u001b[0;34m)\u001b[0m\u001b[0;34m\u001b[0m\u001b[0;34m\u001b[0m\u001b[0m\n\u001b[0m",
      "\u001b[0;31mAssertionError\u001b[0m: "
     ]
    }
   ],
   "source": [
    "print('sk_svm_accuracy:', sk_svm_accuracy)\n",
    "print('tf_fc_accuracy:', tf_fc_accuracy)\n",
    "print('ensemble_accuracy:', ensemble_accuracy)\n",
    "assert (ensemble_accuracy >= sk_svm_accuracy) & (ensemble_accuracy >= tf_fc_accuracy)"
   ]
  },
  {
   "cell_type": "markdown",
   "metadata": {},
   "source": [
    "# Evalute Ensemble Workflow"
   ]
  },
  {
   "cell_type": "code",
   "execution_count": null,
   "metadata": {},
   "outputs": [],
   "source": [
    "from app.ai.workflow import DefaultClassifierEnsembleWorkflow\n",
    "from sklearn.metrics import accuracy_score"
   ]
  },
  {
   "cell_type": "code",
   "execution_count": null,
   "metadata": {},
   "outputs": [],
   "source": [
    "default_classifier_ensemble_workflow = DefaultClassifierEnsembleWorkflow()"
   ]
  },
  {
   "cell_type": "code",
   "execution_count": null,
   "metadata": {},
   "outputs": [],
   "source": [
    "pred = default_classifier_ensemble_workflow.predict({\"X\": prepared_data['X_test']})"
   ]
  },
  {
   "cell_type": "code",
   "execution_count": null,
   "metadata": {},
   "outputs": [],
   "source": [
    "prepared_data['X_test'].shape"
   ]
  },
  {
   "cell_type": "code",
   "execution_count": null,
   "metadata": {},
   "outputs": [],
   "source": [
    "metrics = accuracy_score(prepared_data['y_test'], pred['predictions'])\n",
    "print(\"workflow accuracy:\", metrics)"
   ]
  }
 ],
 "metadata": {
  "kernelspec": {
   "display_name": "Python 3",
   "language": "python",
   "name": "python3"
  },
  "language_info": {
   "codemirror_mode": {
    "name": "ipython",
    "version": 3
   },
   "file_extension": ".py",
   "mimetype": "text/x-python",
   "name": "python",
   "nbconvert_exporter": "python",
   "pygments_lexer": "ipython3",
   "version": "3.8.7"
  },
  "toc": {
   "base_numbering": 1,
   "nav_menu": {},
   "number_sections": true,
   "sideBar": true,
   "skip_h1_title": false,
   "title_cell": "Table of Contents",
   "title_sidebar": "Contents",
   "toc_cell": false,
   "toc_position": {},
   "toc_section_display": true,
   "toc_window_display": false
  }
 },
 "nbformat": 4,
 "nbformat_minor": 2
}
